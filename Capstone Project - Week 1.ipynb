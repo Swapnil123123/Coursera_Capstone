{
    "cells": [
        {
            "attachments": {},
            "cell_type": "markdown",
            "metadata": {
                "collapsed": true
            },
            "source": "<h1>Best neighbourhoods for opening Korean restaurants in New York</h1><br>\n<h2>Introduction</h2>\n<p>The City of New York is famous for its wide variety of diverse cuisine. It's food culture includes an array of international cuisines influenced by the city's immigration history.</p>\n<p>\nKorean restaurants have become very trendy these days in the United States, thanks to K-dramas and fancy food they eat (Kimchi and Bibimbap). Nowdays it seems that there is one at every corner of NY, not only in major cities but also in smaller cities. Starting a Korean restaurant can be a great business opportunity, but you need to distinguish yourself from others to enjoy long-term success.\n<p>\n<h2>Business Problem</h2>    \n<p>My client wants to open his business in Manhattan area, so I would focus on that borough during my analysis. We define potential neighborhood based on the number of Korean joints which are operating in each neighborhood. Manhattan has full potential but also is a very challenging district to open a business in the sector because of high competition. New Korean restaurant should be open in an area if the neighbourhood which has less number of Korean restaurants. In this way the restaurant can attract more customers. Therefore, this analysis necessary to ensure that we have enough customers and that we are not so close to other Korean restaurant places.\n</p>  \n<h2>Date Selection</h2>\n<p>To identify the characteristics of our competitors' venues in Manhattan, we would first need to find out the number of Korean restaurants in Manhattan currently and their location.</p><p>\n Then we would use Google Map API to find their geographic coordinates based on their postal code addresses.</p>\n <p>Next, we also used Google Map API to find their geographic coordinates of the 5 locations shortlisted for our Korean restaurant.</p>\n <p>Addresses are converted into their equivalent latitude and longitude values.</p> \n <p>Foursquare API is used to explore neighborhoods in Manhattan, New York.</p> \n <p>After that, explore function to get sushi restaurant categories in each neighborhood.</p>\n <h2>Methodology</h2>\n <p>Then using this feature to group the neighborhoods into clusters K-means clustering algorithm will be use to complete this task. And also, the Folium library to visualize the neighborhoods in Manhattan and their emerging clusters.\n</p>\n<p>Based on dataframe analysis, we would we able to analyse the cluster areas are the best places to open a new Korean restaurant.</p>"
        }
    ],
    "metadata": {
        "kernelspec": {
            "display_name": "Python 3.6",
            "language": "python",
            "name": "python3"
        },
        "language_info": {
            "codemirror_mode": {
                "name": "ipython",
                "version": 3
            },
            "file_extension": ".py",
            "mimetype": "text/x-python",
            "name": "python",
            "nbconvert_exporter": "python",
            "pygments_lexer": "ipython3",
            "version": "3.6.9"
        }
    },
    "nbformat": 4,
    "nbformat_minor": 1
}